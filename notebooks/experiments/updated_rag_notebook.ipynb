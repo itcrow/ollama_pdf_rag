{
 "cells": [
  {
   "cell_type": "markdown",
   "metadata": {},
   "source": [
    "# Ollama PDF RAG Notebook"
   ]
  },
  {
   "cell_type": "markdown",
   "metadata": {},
   "source": [
    "## Import Libraries\n"
   ]
  },
  {
   "cell_type": "code",
   "metadata": {
    "ExecuteTime": {
     "end_time": "2025-03-19T19:53:06.784525Z",
     "start_time": "2025-03-19T19:53:06.780300Z"
    }
   },
   "source": [
    "# Imports\n",
    "from langchain_community.document_loaders import UnstructuredPDFLoader\n",
    "from langchain_ollama import OllamaEmbeddings\n",
    "from langchain_text_splitters import RecursiveCharacterTextSplitter\n",
    "from langchain_community.vectorstores import Chroma\n",
    "from langchain.prompts import ChatPromptTemplate, PromptTemplate\n",
    "from langchain_core.output_parsers import StrOutputParser\n",
    "from langchain_ollama.chat_models import ChatOllama\n",
    "from langchain_core.runnables import RunnablePassthrough\n",
    "from langchain.retrievers.multi_query import MultiQueryRetriever\n",
    "\n",
    "# Suppress warnings\n",
    "import warnings\n",
    "warnings.filterwarnings('ignore')\n",
    "\n",
    "# Jupyter-specific imports\n",
    "from IPython.display import display, Markdown\n",
    "\n",
    "# Set environment variable for protobuf\n",
    "import os\n",
    "os.environ[\"PROTOCOL_BUFFERS_PYTHON_IMPLEMENTATION\"] = \"python\""
   ],
   "outputs": [],
   "execution_count": 24
  },
  {
   "cell_type": "markdown",
   "metadata": {},
   "source": [
    "## Load PDF"
   ]
  },
  {
   "cell_type": "code",
   "metadata": {
    "ExecuteTime": {
     "end_time": "2025-03-19T19:53:11.839531Z",
     "start_time": "2025-03-19T19:53:08.904370Z"
    }
   },
   "source": [
    "# Load PDF\n",
    "local_path = \"../../data/pdfs/sample/MKS-07-Poshuk-Tehnichnij-opis-ta-instruktsiya-shhodo-ekspluatuvannya.pdf\"\n",
    "if local_path:\n",
    "    loader = UnstructuredPDFLoader(file_path=local_path)\n",
    "    data = loader.load()\n",
    "    print(f\"PDF loaded successfully: {local_path}\")\n",
    "else:\n",
    "    print(\"Upload a PDF file\")"
   ],
   "outputs": [
    {
     "name": "stdout",
     "output_type": "stream",
     "text": [
      "PDF loaded successfully: ../../data/pdfs/sample/MKS-07-Poshuk-Tehnichnij-opis-ta-instruktsiya-shhodo-ekspluatuvannya.pdf\n"
     ]
    }
   ],
   "execution_count": 25
  },
  {
   "cell_type": "markdown",
   "metadata": {},
   "source": [
    "## Split text into chunks"
   ]
  },
  {
   "cell_type": "code",
   "metadata": {
    "ExecuteTime": {
     "end_time": "2025-03-19T19:56:07.663728Z",
     "start_time": "2025-03-19T19:56:07.658090Z"
    }
   },
   "source": [
    "# Split text into chunks\n",
    "text_splitter = RecursiveCharacterTextSplitter(chunk_size=1000, chunk_overlap=200)\n",
    "chunks = text_splitter.split_documents(data)\n",
    "print(f\"Text split into {len(chunks)} chunks\")"
   ],
   "outputs": [
    {
     "name": "stdout",
     "output_type": "stream",
     "text": [
      "Text split into 95 chunks\n"
     ]
    }
   ],
   "execution_count": 28
  },
  {
   "cell_type": "markdown",
   "metadata": {},
   "source": [
    "## Create vector database"
   ]
  },
  {
   "cell_type": "code",
   "metadata": {
    "ExecuteTime": {
     "end_time": "2025-03-19T19:58:18.773728Z",
     "start_time": "2025-03-19T19:56:09.313980Z"
    }
   },
   "source": [
    "# Create vector database\n",
    "vector_db = Chroma.from_documents(\n",
    "    documents=chunks,\n",
    "    embedding=OllamaEmbeddings(model=\"nomic-embed-text\"),\n",
    "    collection_name=\"local-rag\"\n",
    ")\n",
    "print(\"Vector database created successfully\")"
   ],
   "outputs": [
    {
     "name": "stdout",
     "output_type": "stream",
     "text": [
      "Vector database created successfully\n"
     ]
    }
   ],
   "execution_count": 29
  },
  {
   "cell_type": "markdown",
   "metadata": {},
   "source": [
    "## Set up LLM and Retrieval"
   ]
  },
  {
   "cell_type": "code",
   "metadata": {
    "ExecuteTime": {
     "end_time": "2025-03-19T20:05:39.324266Z",
     "start_time": "2025-03-19T20:05:39.263942Z"
    }
   },
   "source": [
    "# Set up LLM and retrieval\n",
    "local_model = \"mistral\"  # or whichever model you prefer\n",
    "llm = ChatOllama(model=local_model)"
   ],
   "outputs": [],
   "execution_count": 38
  },
  {
   "cell_type": "code",
   "metadata": {
    "ExecuteTime": {
     "end_time": "2025-03-20T21:48:07.524613Z",
     "start_time": "2025-03-20T21:48:07.517913Z"
    }
   },
   "source": [
    "# Query prompt template\n",
    "QUERY_PROMPT = PromptTemplate(\n",
    "    input_variables=[\"question\"],\n",
    "    template=\"\"\"You are an AI language model assistant. Your task is to generate 2\n",
    "    different versions of the given user question to retrieve relevant documents from\n",
    "    a vector database. Language of responses must be Ukrainian. By generating multiple perspectives on the user question, your\n",
    "    goal is to help the user overcome some of the limitations of the distance-based\n",
    "    similarity search. Provide these alternative questions separated by newlines.\n",
    "    Original question: {question}\"\"\",\n",
    ")\n",
    "\n",
    "# Set up retriever\n",
    "retriever = MultiQueryRetriever.from_llm(\n",
    "    vector_db.as_retriever(), \n",
    "    llm,\n",
    "    prompt=QUERY_PROMPT\n",
    ")"
   ],
   "outputs": [],
   "execution_count": 47
  },
  {
   "cell_type": "markdown",
   "metadata": {},
   "source": [
    "## Create chain"
   ]
  },
  {
   "cell_type": "code",
   "metadata": {
    "ExecuteTime": {
     "end_time": "2025-03-20T21:48:12.399550Z",
     "start_time": "2025-03-20T21:48:12.396379Z"
    }
   },
   "source": [
    "# RAG prompt template\n",
    "template = \"\"\"Answer the question based ONLY on the following context:\n",
    "{context}\n",
    "Question: {question}\n",
    "\"\"\"\n",
    "\n",
    "prompt = ChatPromptTemplate.from_template(template)"
   ],
   "outputs": [],
   "execution_count": 48
  },
  {
   "cell_type": "code",
   "metadata": {
    "ExecuteTime": {
     "end_time": "2025-03-20T21:48:14.122805Z",
     "start_time": "2025-03-20T21:48:14.118642Z"
    }
   },
   "source": [
    "# Create chain\n",
    "chain = (\n",
    "    {\"context\": retriever, \"question\": RunnablePassthrough()}\n",
    "    | prompt\n",
    "    | llm\n",
    "    | StrOutputParser()\n",
    ")"
   ],
   "outputs": [],
   "execution_count": 49
  },
  {
   "cell_type": "markdown",
   "metadata": {},
   "source": [
    "## Chat with PDF"
   ]
  },
  {
   "cell_type": "code",
   "metadata": {
    "ExecuteTime": {
     "end_time": "2025-03-20T21:48:16.185596Z",
     "start_time": "2025-03-20T21:48:16.182254Z"
    }
   },
   "source": [
    "def chat_with_pdf(question):\n",
    "    \"\"\"\n",
    "    Chat with the PDF using the RAG chain.\n",
    "    \"\"\"\n",
    "    return display(Markdown(chain.invoke(question)))"
   ],
   "outputs": [],
   "execution_count": 50
  },
  {
   "cell_type": "code",
   "metadata": {
    "ExecuteTime": {
     "end_time": "2025-03-20T21:50:58.383014Z",
     "start_time": "2025-03-20T21:48:18.614772Z"
    }
   },
   "source": [
    "# Example 1\n",
    "chat_with_pdf(\"What is the main idea of this document?\")"
   ],
   "outputs": [
    {
     "data": {
      "text/plain": [
       "<IPython.core.display.Markdown object>"
      ],
      "text/markdown": " The main idea of the document is a technical description and instructions for using a device called \"Block of Detection\" (Beta-Particle Detector, or БДБГ-07, and Виносний блок детектування), which is used in some type of equipment (possibly MKS-07, given the file name). The Block of Detection has a specific structure, including parts made of polyethylene terephthalate plastics for protection against dust and moisture. It is connected to other components using screws, hinges, and a bracket. The device also contains a scale, a switch for powering on and off, and a protective cover (накривка). The document provides instructions for operating the device, including how to turn it on and off, as well as safety measures for storage."
     },
     "metadata": {},
     "output_type": "display_data"
    }
   ],
   "execution_count": 51
  },
  {
   "cell_type": "code",
   "metadata": {
    "ExecuteTime": {
     "end_time": "2025-03-19T20:11:43.905327Z",
     "start_time": "2025-03-19T20:09:10.410823Z"
    }
   },
   "source": [
    "# Example 2\n",
    "chat_with_pdf(\"Які технічні характеристики цього пристрою?\") #What technical characteristics of this device?"
   ],
   "outputs": [
    {
     "data": {
      "text/plain": [
       "<IPython.core.display.Markdown object>"
      ],
      "text/markdown": "1. The device has a detection block for beta particles (BDYB-07) with a rectangular shape and rounded corners or edges (as seen in figures V.2, V.3).\n  2. There is an on/off button labeled as 'ДОЗА' (Dosa). Pressing and holding this button initiates the operation of the device.\n  3. The device has a scale.\n  4. The device appears to have settings for limits (ПОРІГ), accuracy (ТОЧНО), and perhaps others mentioned but not fully translated.\n  5. The device can switch between modes automatically, with a 1-hour average time for precise measurement set upon initial power-up."
     },
     "metadata": {},
     "output_type": "display_data"
    }
   ],
   "execution_count": 45
  },
  {
   "cell_type": "code",
   "metadata": {
    "ExecuteTime": {
     "end_time": "2025-03-19T20:16:45.697226Z",
     "start_time": "2025-03-19T20:12:39.863678Z"
    }
   },
   "source": [
    "# Example 3\n",
    "chat_with_pdf(\"Can you explain the usage cases in the document?\")"
   ],
   "outputs": [
    {
     "data": {
      "text/plain": [
       "<IPython.core.display.Markdown object>"
      ],
      "text/markdown": "1. The first document introduces a Realtime API, but no specific use case is provided.\n\n  2. Ken Paxton's document discusses common scams, although it doesn't provide any specific use case related to the content within the context.\n\n  3. Francesco Salvi, Manoel Horta Ribeiro, Riccardo Gallotti, and Robert West's paper focuses on the conversational persuasiveness of large language models, but no specific use case is mentioned in the context provided.\n\n  4. Brian Schwalb's document discusses Telemarketing scams, but it doesn't provide any specific use case related to the content within the context.\n\n  5. Fabio Urbina, Filippa Lentzos, Cédric Invernizzi, and Sean Ekins' paper talks about the dual use of artificial-intelligence-powered drug discovery, but no specific use case is mentioned in the context provided.\n\n  6. The document titled \"MKS-07 Пoshuk Технічний опис та інструкція щодо експлуатації\" discusses the usage and installation of a dosimeter with RS7 connector, particularly focusing on its protective measures such as radiation detection and alarm system, switch operations, setting the time for data averaging, and the removal of the panel during operation. It also mentions the use of a transparent polyethylene terephthalate film to protect the moving fixture and detector from dust and moisture. However, no broader use case or application of this dosimeter is mentioned in the context provided.\n\n  7. Laura Weidinger et al.'s paper discusses the taxonomy of risks posed by language models, but it doesn't provide any specific use case related to the content within the context."
     },
     "metadata": {},
     "output_type": "display_data"
    }
   ],
   "execution_count": 46
  },
  {
   "cell_type": "markdown",
   "metadata": {},
   "source": [
    "## Clean up (optional)"
   ]
  },
  {
   "cell_type": "code",
   "execution_count": 27,
   "metadata": {},
   "outputs": [
    {
     "name": "stdout",
     "output_type": "stream",
     "text": [
      "Vector database deleted successfully\n"
     ]
    }
   ],
   "source": [
    "# Optional: Clean up when done \n",
    "vector_db.delete_collection()\n",
    "print(\"Vector database deleted successfully\")"
   ]
  }
 ],
 "metadata": {
  "kernelspec": {
   "display_name": ".venv",
   "language": "python",
   "name": "python3"
  },
  "language_info": {
   "codemirror_mode": {
    "name": "ipython",
    "version": 3
   },
   "file_extension": ".py",
   "mimetype": "text/x-python",
   "name": "python",
   "nbconvert_exporter": "python",
   "pygments_lexer": "ipython3",
   "version": "3.12.6"
  }
 },
 "nbformat": 4,
 "nbformat_minor": 2
}
